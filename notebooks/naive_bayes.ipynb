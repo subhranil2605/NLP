{
 "cells": [
  {
   "cell_type": "markdown",
   "id": "6ac95ba1-ca8a-454f-91af-5f5e918687b8",
   "metadata": {},
   "source": [
    "# Text Classification and Naive Bayes\n",
    "# Multinomial Naive Bayes"
   ]
  },
  {
   "cell_type": "code",
   "execution_count": 57,
   "id": "4dc59aab-e4c6-49cf-bcf3-834e6203d99e",
   "metadata": {},
   "outputs": [],
   "source": [
    "from functools import reduce"
   ]
  },
  {
   "cell_type": "code",
   "execution_count": 58,
   "id": "edad86ed-adb5-4513-a80c-db87c97ea119",
   "metadata": {},
   "outputs": [],
   "source": [
    "# training data\n",
    "data = dict(\n",
    "    c = [\"Chinese Beijing Chinese\", \"Chinese Chinese Shanghai\", \"Chinese Macao\"],\n",
    "    j = [\"Tokyo Japan Chinese\"]\n",
    ")\n",
    "\n",
    "# test data\n",
    "test_data = \"Chinese Chinese Chinese Tokyo Japan\""
   ]
  },
  {
   "cell_type": "code",
   "execution_count": 59,
   "id": "e6dc1d70-eafe-4abf-85cd-cf2aee6809a7",
   "metadata": {},
   "outputs": [
    {
     "data": {
      "text/plain": [
       "{'c': ['Chinese Beijing Chinese', 'Chinese Chinese Shanghai', 'Chinese Macao'],\n",
       " 'j': ['Tokyo Japan Chinese']}"
      ]
     },
     "execution_count": 59,
     "metadata": {},
     "output_type": "execute_result"
    }
   ],
   "source": [
    "data"
   ]
  },
  {
   "cell_type": "markdown",
   "id": "3f14022a-3fed-442a-b78c-cdd2fd90c983",
   "metadata": {},
   "source": [
    "## Collecting all the words in a single class list"
   ]
  },
  {
   "cell_type": "code",
   "execution_count": 60,
   "id": "d7119ad3-a13a-408e-a9b9-b30100a484f3",
   "metadata": {},
   "outputs": [
    {
     "data": {
      "text/plain": [
       "{'c': ['Chinese',\n",
       "  'Beijing',\n",
       "  'Chinese',\n",
       "  'Chinese',\n",
       "  'Chinese',\n",
       "  'Shanghai',\n",
       "  'Chinese',\n",
       "  'Macao'],\n",
       " 'j': ['Tokyo', 'Japan', 'Chinese']}"
      ]
     },
     "execution_count": 60,
     "metadata": {},
     "output_type": "execute_result"
    }
   ],
   "source": [
    "def all_words_in_a_class(data):\n",
    "    a = dict()\n",
    "    for key, value in data.items():\n",
    "        l = []\n",
    "        for val in value:\n",
    "            l.extend(val.split()) # split the sentence and store each words in a list\n",
    "        a.setdefault(key, []).extend(l) # store the list of words in regarding class\n",
    "    return a\n",
    "    \n",
    "all_words_in_a_class(data)"
   ]
  },
  {
   "cell_type": "markdown",
   "id": "a664f574-fed0-4036-81e0-ce589602d069",
   "metadata": {},
   "source": [
    "## Count the words in a class"
   ]
  },
  {
   "cell_type": "code",
   "execution_count": 61,
   "id": "4d39ccb2-aa44-4a6f-88ae-a8313e201de5",
   "metadata": {},
   "outputs": [
    {
     "data": {
      "text/plain": [
       "{'c': {'Shanghai': 1, 'Chinese': 5, 'Beijing': 1, 'Macao': 1},\n",
       " 'j': {'Japan': 1, 'Chinese': 1, 'Tokyo': 1}}"
      ]
     },
     "execution_count": 61,
     "metadata": {},
     "output_type": "execute_result"
    }
   ],
   "source": [
    "def count_each_words_in_a_class(a):\n",
    "    b = dict()\n",
    "    for key, value in a.items():\n",
    "        z = dict()\n",
    "        for i in set(value): # all the distinct values in a class\n",
    "            z.setdefault(i, value.count(i)) # store the occurence of the word \n",
    "        b.setdefault(key, z) # store the dictionary in the regarding class\n",
    "    return b\n",
    "    \n",
    "count_each_words_in_a_class(all_words_in_a_class(data))"
   ]
  },
  {
   "cell_type": "markdown",
   "id": "8c235be6-d521-4db3-9945-eff522af806d",
   "metadata": {},
   "source": [
    "## Calculating the Prior Probabilites"
   ]
  },
  {
   "cell_type": "code",
   "execution_count": 62,
   "id": "67095c45-ee7f-4a3c-9976-1ab5fc558ccc",
   "metadata": {},
   "outputs": [
    {
     "data": {
      "text/plain": [
       "{'c': 0.75, 'j': 0.25}"
      ]
     },
     "execution_count": 62,
     "metadata": {},
     "output_type": "execute_result"
    }
   ],
   "source": [
    "def priors(data):\n",
    "    # count the number of each class in the data\n",
    "    j = {key: len(value) for key, value in data.items()}\n",
    "    \n",
    "    # total number of data\n",
    "    s = reduce(lambda x, y: x + y, j.values())\n",
    "    \n",
    "    # get the probability of each class\n",
    "    for key, value in j.items():\n",
    "        j[key] /= s\n",
    "\n",
    "    return j\n",
    "\n",
    "priors(data)"
   ]
  },
  {
   "cell_type": "markdown",
   "id": "885429eb-6a15-4a10-bfd2-03eadaf4b279",
   "metadata": {},
   "source": [
    "## Calculating the conditional probability"
   ]
  },
  {
   "cell_type": "code",
   "execution_count": 63,
   "id": "cde92c60-0053-43ff-97bd-6a594fb7dd15",
   "metadata": {},
   "outputs": [
    {
     "data": {
      "text/plain": [
       "0.42857142857142855"
      ]
     },
     "execution_count": 63,
     "metadata": {},
     "output_type": "execute_result"
    }
   ],
   "source": [
    "def conditional_prob(word, class_, data):\n",
    "    b = count_each_words_in_a_class(all_words_in_a_class(data))\n",
    "    \n",
    "    # count of \"word\" in a class\n",
    "    count_w_c = b.get(class_).get(word) or 0 \n",
    "\n",
    "    # count of total words in a class\n",
    "    count_c = sum(b.get(class_).values())\n",
    "\n",
    "    # count of distinct words\n",
    "    c = set()\n",
    "    for key, value in b.items():\n",
    "        for i in value.keys():\n",
    "            c.add(i)\n",
    "    V = len(c)\n",
    "\n",
    "    return (count_w_c + 1) / (count_c + V)\n",
    "\n",
    "conditional_prob(\"Chinese\", \"c\", data)"
   ]
  },
  {
   "cell_type": "markdown",
   "id": "4041c076-5ce0-4642-a01a-9b51ffa11f37",
   "metadata": {},
   "source": [
    "## Predict any test data"
   ]
  },
  {
   "cell_type": "code",
   "execution_count": 64,
   "id": "58059501-76fd-4fd1-be26-81e84993497d",
   "metadata": {},
   "outputs": [],
   "source": [
    "def predict(test_data, data):\n",
    "    result = dict()\n",
    "    for key in data.keys():\n",
    "        prob = priors(data).get(key) # prior probability of the class\n",
    "        for word in test_data.split():\n",
    "            prob *= conditional_prob(word, key, data) \n",
    "        result.setdefault(key, prob)\n",
    "    return result"
   ]
  },
  {
   "cell_type": "markdown",
   "id": "e57e9097-44fb-47ec-90c9-eee2c091b06e",
   "metadata": {},
   "source": [
    "## Determining which class the test data belongs"
   ]
  },
  {
   "cell_type": "code",
   "execution_count": 65,
   "id": "6e145509-96b9-4a47-a2b7-bf8a5949d43c",
   "metadata": {},
   "outputs": [],
   "source": [
    "def class_label(predicted_dict):\n",
    "    return max(predicted_dict, key=predicted_dict.get)"
   ]
  },
  {
   "cell_type": "code",
   "execution_count": 66,
   "id": "ba69465f-3475-4f26-9a48-c2aaeac56102",
   "metadata": {},
   "outputs": [
    {
     "data": {
      "text/plain": [
       "{'c': 0.00030121377997263036, 'j': 0.00013548070246744226}"
      ]
     },
     "execution_count": 66,
     "metadata": {},
     "output_type": "execute_result"
    }
   ],
   "source": [
    "p = predict(test_data, data)\n",
    "p"
   ]
  },
  {
   "cell_type": "code",
   "execution_count": 67,
   "id": "b7468ac8-168e-45b0-a372-528aad38e52e",
   "metadata": {},
   "outputs": [
    {
     "data": {
      "text/plain": [
       "'c'"
      ]
     },
     "execution_count": 67,
     "metadata": {},
     "output_type": "execute_result"
    }
   ],
   "source": [
    "class_label(p)"
   ]
  },
  {
   "cell_type": "markdown",
   "id": "a359d368-6787-4e81-aec8-dcaaecb12ae4",
   "metadata": {},
   "source": [
    "### Test data belongs to class `c`"
   ]
  },
  {
   "cell_type": "code",
   "execution_count": null,
   "id": "c3da8a90-2343-421b-89e2-b643332856d6",
   "metadata": {},
   "outputs": [],
   "source": []
  }
 ],
 "metadata": {
  "kernelspec": {
   "display_name": "Python 3 (ipykernel)",
   "language": "python",
   "name": "python3"
  },
  "language_info": {
   "codemirror_mode": {
    "name": "ipython",
    "version": 3
   },
   "file_extension": ".py",
   "mimetype": "text/x-python",
   "name": "python",
   "nbconvert_exporter": "python",
   "pygments_lexer": "ipython3",
   "version": "3.10.8"
  }
 },
 "nbformat": 4,
 "nbformat_minor": 5
}
