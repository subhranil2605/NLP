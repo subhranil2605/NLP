{
 "cells": [
  {
   "cell_type": "code",
   "execution_count": 44,
   "id": "fcfa4259-1b6e-432c-b353-6c861f995063",
   "metadata": {},
   "outputs": [],
   "source": [
    "from functools import reduce"
   ]
  },
  {
   "cell_type": "code",
   "execution_count": 45,
   "id": "c941e15c-6866-4fe5-b1b9-01e1f4671370",
   "metadata": {},
   "outputs": [],
   "source": [
    "# training data\n",
    "data = dict(\n",
    "    c = [\"Chinese Beijing Chinese\", \"Chinese Chinese Shanghai\", \"Chinese Macao\"],\n",
    "    j = [\"Tokyo Japan Chinese\"]\n",
    ")\n",
    "\n",
    "# test data\n",
    "test_data = \"Chinese Chinese Chinese Tokyo Japan\""
   ]
  },
  {
   "cell_type": "code",
   "execution_count": 46,
   "id": "31c6ab45-e281-4055-afb7-b561f4d63a64",
   "metadata": {},
   "outputs": [
    {
     "data": {
      "text/plain": [
       "{'c': ['Chinese Beijing Chinese', 'Chinese Chinese Shanghai', 'Chinese Macao'],\n",
       " 'j': ['Tokyo Japan Chinese']}"
      ]
     },
     "execution_count": 46,
     "metadata": {},
     "output_type": "execute_result"
    }
   ],
   "source": [
    "data"
   ]
  },
  {
   "cell_type": "code",
   "execution_count": 47,
   "id": "393169c3-078d-43ff-9b7b-e13dbe3a4c12",
   "metadata": {},
   "outputs": [
    {
     "data": {
      "text/plain": [
       "'Chinese Chinese Chinese Tokyo Japan'"
      ]
     },
     "execution_count": 47,
     "metadata": {},
     "output_type": "execute_result"
    }
   ],
   "source": [
    "test_data"
   ]
  },
  {
   "cell_type": "markdown",
   "id": "6e09f18c-3805-46bd-978f-0d55ec2e3b36",
   "metadata": {},
   "source": [
    "## Removing duplicate values from the document"
   ]
  },
  {
   "cell_type": "code",
   "execution_count": 48,
   "id": "55499603-7fef-4be7-ace5-46f6c5ed5e82",
   "metadata": {},
   "outputs": [],
   "source": [
    "def remove_duplicate_values(data):\n",
    "    for key, value in data.items():\n",
    "        data[key] = [\" \".join(list(set(val.split()))) for val in value]\n",
    "    return data"
   ]
  },
  {
   "cell_type": "code",
   "execution_count": 49,
   "id": "568bd034-554f-4456-97a7-9ddd85296695",
   "metadata": {},
   "outputs": [
    {
     "data": {
      "text/plain": [
       "{'c': ['Chinese Beijing', 'Chinese Shanghai', 'Chinese Macao'],\n",
       " 'j': ['Chinese Japan Tokyo']}"
      ]
     },
     "execution_count": 49,
     "metadata": {},
     "output_type": "execute_result"
    }
   ],
   "source": [
    "data = remove_duplicate_values(data)\n",
    "data"
   ]
  },
  {
   "cell_type": "code",
   "execution_count": 50,
   "id": "253e2274-03c4-42cc-835b-8a81787a2491",
   "metadata": {},
   "outputs": [
    {
     "data": {
      "text/plain": [
       "'Chinese Japan Tokyo'"
      ]
     },
     "execution_count": 50,
     "metadata": {},
     "output_type": "execute_result"
    }
   ],
   "source": [
    "test_data = \" \".join(list(set(test_data.split())))\n",
    "\n",
    "test_data"
   ]
  },
  {
   "cell_type": "code",
   "execution_count": 51,
   "id": "669ae6f1-c366-41eb-81dc-bc46cd30d04e",
   "metadata": {},
   "outputs": [
    {
     "data": {
      "text/plain": [
       "{'c': ['Chinese', 'Beijing', 'Chinese', 'Shanghai', 'Chinese', 'Macao'],\n",
       " 'j': ['Chinese', 'Japan', 'Tokyo']}"
      ]
     },
     "execution_count": 51,
     "metadata": {},
     "output_type": "execute_result"
    }
   ],
   "source": [
    "def all_words_in_a_class(data):\n",
    "    a = dict()\n",
    "    for key, value in data.items():\n",
    "        l = []\n",
    "        for val in value:\n",
    "            l.extend(val.split()) # split the sentence and store each words in a list\n",
    "        a.setdefault(key, []).extend(l) # store the list of words in regarding class\n",
    "    return a\n",
    "    \n",
    "all_words_in_a_class(data)"
   ]
  },
  {
   "cell_type": "code",
   "execution_count": 52,
   "id": "9858aed0-9495-47e4-92e3-ede9ac31d8b6",
   "metadata": {},
   "outputs": [
    {
     "data": {
      "text/plain": [
       "{'c': {'Chinese': 3, 'Beijing': 1, 'Macao': 1, 'Shanghai': 1},\n",
       " 'j': {'Chinese': 1, 'Tokyo': 1, 'Japan': 1}}"
      ]
     },
     "execution_count": 52,
     "metadata": {},
     "output_type": "execute_result"
    }
   ],
   "source": [
    "def count_each_words_in_a_class(a):\n",
    "    b = dict()\n",
    "    for key, value in a.items():\n",
    "        z = dict()\n",
    "        for i in set(value): # all the distinct values in a class\n",
    "            z.setdefault(i, value.count(i)) # store the occurence of the word \n",
    "        b.setdefault(key, z) # store the dictionary in the regarding class\n",
    "    return b\n",
    "    \n",
    "count_each_words_in_a_class(all_words_in_a_class(data))"
   ]
  },
  {
   "cell_type": "code",
   "execution_count": 53,
   "id": "4dfd26d5-de10-4a7a-b5da-0098a3ef3a22",
   "metadata": {},
   "outputs": [
    {
     "data": {
      "text/plain": [
       "{'c': 0.75, 'j': 0.25}"
      ]
     },
     "execution_count": 53,
     "metadata": {},
     "output_type": "execute_result"
    }
   ],
   "source": [
    "def priors(data):\n",
    "    # count the number of each class in the data\n",
    "    j = {key: len(value) for key, value in data.items()}\n",
    "    \n",
    "    # total number of data\n",
    "    s = reduce(lambda x, y: x + y, j.values())\n",
    "    \n",
    "    # get the probability of each class\n",
    "    for key in j.keys():\n",
    "        j[key] /= s\n",
    "\n",
    "    return j\n",
    "\n",
    "priors(data)"
   ]
  },
  {
   "cell_type": "code",
   "execution_count": 54,
   "id": "222e371a-cb6c-4648-8a95-45a2b2a2378d",
   "metadata": {},
   "outputs": [
    {
     "data": {
      "text/plain": [
       "0.3333333333333333"
      ]
     },
     "execution_count": 54,
     "metadata": {},
     "output_type": "execute_result"
    }
   ],
   "source": [
    "def conditional_prob(word, class_, data):\n",
    "    b = count_each_words_in_a_class(all_words_in_a_class(data))\n",
    "    \n",
    "    # count of \"word\" in a class\n",
    "    count_w_c = b.get(class_).get(word) or 0 \n",
    "\n",
    "    # count of total words in a class\n",
    "    count_c = sum(b.get(class_).values())\n",
    "\n",
    "    # count of distinct words\n",
    "    c = set()\n",
    "    for value in b.values():\n",
    "        for i in value.keys():\n",
    "            c.add(i)\n",
    "    V = len(c)\n",
    "\n",
    "    return (count_w_c + 1) / (count_c + V)\n",
    "\n",
    "# example\n",
    "conditional_prob(\"Chinese\", \"c\", data)"
   ]
  },
  {
   "cell_type": "code",
   "execution_count": 55,
   "id": "db2eb1f5-f7e3-4eb7-b4f7-a4402ca89049",
   "metadata": {},
   "outputs": [],
   "source": [
    "def predict(test_data, data):\n",
    "    result = dict()\n",
    "    for key in data.keys():\n",
    "        prob = priors(data).get(key) # prior probability of the class\n",
    "        for word in test_data.split():\n",
    "            prob *= conditional_prob(word, key, data) \n",
    "        result.setdefault(key, prob)\n",
    "    return result"
   ]
  },
  {
   "cell_type": "code",
   "execution_count": 56,
   "id": "f763129c-2ba6-4f49-9001-e0bc37075202",
   "metadata": {},
   "outputs": [],
   "source": [
    "def class_label(predicted_dict):\n",
    "    return max(predicted_dict, key=predicted_dict.get)"
   ]
  },
  {
   "cell_type": "code",
   "execution_count": 57,
   "id": "c6b0cbb2-0576-4f65-9b69-8b08a448170e",
   "metadata": {},
   "outputs": [
    {
     "data": {
      "text/plain": [
       "{'c': 0.001736111111111111, 'j': 0.0027434842249657062}"
      ]
     },
     "execution_count": 57,
     "metadata": {},
     "output_type": "execute_result"
    }
   ],
   "source": [
    "p = predict(test_data, data)\n",
    "p"
   ]
  },
  {
   "cell_type": "code",
   "execution_count": 58,
   "id": "3c147ab1-e892-4999-8f09-b50e9fd48fd4",
   "metadata": {},
   "outputs": [
    {
     "data": {
      "text/plain": [
       "'j'"
      ]
     },
     "execution_count": 58,
     "metadata": {},
     "output_type": "execute_result"
    }
   ],
   "source": [
    "class_label(p)"
   ]
  },
  {
   "cell_type": "code",
   "execution_count": null,
   "id": "5f63703d-1461-4b37-a4e2-76a417f0e944",
   "metadata": {},
   "outputs": [],
   "source": []
  }
 ],
 "metadata": {
  "kernelspec": {
   "display_name": "Python 3 (ipykernel)",
   "language": "python",
   "name": "python3"
  },
  "language_info": {
   "codemirror_mode": {
    "name": "ipython",
    "version": 3
   },
   "file_extension": ".py",
   "mimetype": "text/x-python",
   "name": "python",
   "nbconvert_exporter": "python",
   "pygments_lexer": "ipython3",
   "version": "3.10.8"
  }
 },
 "nbformat": 4,
 "nbformat_minor": 5
}
