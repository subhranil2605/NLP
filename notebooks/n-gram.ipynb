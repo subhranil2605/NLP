{
 "cells": [
  {
   "cell_type": "code",
   "execution_count": 140,
   "id": "b1dff79d-4cf3-4900-ab0d-74089c22c72f",
   "metadata": {},
   "outputs": [],
   "source": [
    "from functools import reduce"
   ]
  },
  {
   "cell_type": "code",
   "execution_count": 49,
   "id": "bd773c26-ece4-4ff8-9c5c-8850577dcd34",
   "metadata": {},
   "outputs": [],
   "source": [
    "corpus = [\n",
    "    \"I am Subhranil\", \n",
    "    \"Subhranil I am\",\n",
    "    \"I do not like green eggs and ham\"\n",
    "]"
   ]
  },
  {
   "cell_type": "code",
   "execution_count": 81,
   "id": "1f7eb021-d4f0-4397-a75b-f2191bab9c44",
   "metadata": {},
   "outputs": [],
   "source": [
    "def augment_sentence(corpus):\n",
    "    return [f\"<s> {sent} </s>\" for sent in corpus]"
   ]
  },
  {
   "cell_type": "code",
   "execution_count": 82,
   "id": "678b3cb3-a184-4eb2-abe5-69203db038f8",
   "metadata": {},
   "outputs": [
    {
     "data": {
      "text/plain": [
       "['<s> I am Subhranil </s>',\n",
       " '<s> Subhranil I am </s>',\n",
       " '<s> I do not like green eggs and ham </s>']"
      ]
     },
     "execution_count": 82,
     "metadata": {},
     "output_type": "execute_result"
    }
   ],
   "source": [
    "aug_corpus = augment_sentence(corpus)\n",
    "aug_corpus"
   ]
  },
  {
   "cell_type": "code",
   "execution_count": 136,
   "id": "ab50f1c5-c93b-4d91-8785-c10d01795a77",
   "metadata": {},
   "outputs": [],
   "source": [
    "def get_unigrams(aug_corpus):\n",
    "    return reduce(lambda x, y: x + y, [i.split(\" \") for i in aug_corpus])"
   ]
  },
  {
   "cell_type": "code",
   "execution_count": 137,
   "id": "ff2b5995-2836-4dda-b957-c1235a1494ca",
   "metadata": {},
   "outputs": [
    {
     "name": "stdout",
     "output_type": "stream",
     "text": [
      "['<s>', 'I', 'am', 'Subhranil', '</s>', '<s>', 'Subhranil', 'I', 'am', '</s>', '<s>', 'I', 'do', 'not', 'like', 'green', 'eggs', 'and', 'ham', '</s>']\n"
     ]
    }
   ],
   "source": [
    "unigrams = get_unigrams(aug_corpus)\n",
    "print(unigrams)"
   ]
  },
  {
   "cell_type": "code",
   "execution_count": 151,
   "id": "3cd49259-f947-4cb6-8757-99908c0e6581",
   "metadata": {},
   "outputs": [],
   "source": [
    "def get_bigrams(aug_corpus):\n",
    "    bigrams = []\n",
    "    for sent in aug_corpus:\n",
    "        (words := sent.split(\" \"))\n",
    "        bigrams.extend([(i, j) for i, j in zip(words, words[1:])])\n",
    "    return bigrams"
   ]
  },
  {
   "cell_type": "code",
   "execution_count": 152,
   "id": "50ded3ba-2636-4c67-b151-9d2b81c1c255",
   "metadata": {},
   "outputs": [
    {
     "name": "stdout",
     "output_type": "stream",
     "text": [
      "[('<s>', 'I'), ('I', 'am'), ('am', 'Subhranil'), ('Subhranil', '</s>'), ('<s>', 'Subhranil'), ('Subhranil', 'I'), ('I', 'am'), ('am', '</s>'), ('<s>', 'I'), ('I', 'do'), ('do', 'not'), ('not', 'like'), ('like', 'green'), ('green', 'eggs'), ('eggs', 'and'), ('and', 'ham'), ('ham', '</s>')]\n"
     ]
    }
   ],
   "source": [
    "bigrams = get_bigrams(aug_corpus)\n",
    "print(bigrams)"
   ]
  },
  {
   "cell_type": "code",
   "execution_count": 147,
   "id": "c7d01a56-a2d8-4581-9640-d9ea46776425",
   "metadata": {},
   "outputs": [],
   "source": [
    "def p(w1, w2):\n",
    "    return bigrams.count((w2, w1)) / unigrams.count(w2)"
   ]
  },
  {
   "cell_type": "code",
   "execution_count": 148,
   "id": "f0823aa0-03db-42b0-b440-eba6c4d5af71",
   "metadata": {},
   "outputs": [
    {
     "data": {
      "text/plain": [
       "0.5"
      ]
     },
     "execution_count": 148,
     "metadata": {},
     "output_type": "execute_result"
    }
   ],
   "source": [
    "p('</s>', 'Subhranil')"
   ]
  },
  {
   "cell_type": "code",
   "execution_count": 149,
   "id": "480f5251-94bb-4649-abfb-7053ebaca334",
   "metadata": {},
   "outputs": [
    {
     "data": {
      "text/plain": [
       "0.5"
      ]
     },
     "execution_count": 149,
     "metadata": {},
     "output_type": "execute_result"
    }
   ],
   "source": [
    "p('Subhranil', 'am')"
   ]
  },
  {
   "cell_type": "markdown",
   "id": "39dbbb7b-b72c-4c85-abd1-b01f31a9c579",
   "metadata": {},
   "source": [
    "# Convert into a `Class`"
   ]
  },
  {
   "cell_type": "code",
   "execution_count": 158,
   "id": "82dfdde2-e54f-4e62-8dec-20eccb49ed11",
   "metadata": {},
   "outputs": [],
   "source": [
    "class NGram:\n",
    "    \"\"\"\n",
    "    N-Gram Model\n",
    "    \"\"\"\n",
    "    \n",
    "    def __init__(self, corpus):\n",
    "        self.corpus = corpus\n",
    "        self.aug_corpus = self._augment_corpus()\n",
    "        self.unigrams = self._get_unigrams()\n",
    "        self.bigrams = self._get_bigrams()\n",
    "        \n",
    "    def _augment_corpus(self):\n",
    "        \"\"\"\n",
    "        Adding <s> and </s> to each sentence of the corpus\n",
    "        \"\"\"\n",
    "        return [f\"<s> {sent} </s>\" for sent in self.corpus]\n",
    "        \n",
    "    \n",
    "    def _get_unigrams(self):\n",
    "        \"\"\"\n",
    "        Get Unigrams from a corpus\n",
    "        \"\"\"\n",
    "        return reduce(lambda x, y: x + y, [i.split(\" \") for i in self.aug_corpus])\n",
    "    \n",
    "    def _get_bigrams(self):\n",
    "        \"\"\"\n",
    "        Get Bigrams from a corpus\n",
    "        \"\"\"\n",
    "        bigrams = []\n",
    "        for sent in aug_corpus:\n",
    "            (words := sent.split(\" \"))\n",
    "            bigrams.extend([(i, j) for i, j in zip(words, words[1:])])\n",
    "        return bigrams\n",
    "\n",
    "    def mle(self, w1, w2):\n",
    "        \"\"\"\n",
    "        Calculate Maximum likelihood estimation\n",
    "        \"\"\"\n",
    "        return self.bigrams.count((w2, w1)) / self.unigrams.count(w2)"
   ]
  },
  {
   "cell_type": "code",
   "execution_count": 155,
   "id": "7dbcdee8-9434-4dcd-a6a0-3799b359cb35",
   "metadata": {},
   "outputs": [],
   "source": [
    "n_gram = NGram(corpus)"
   ]
  },
  {
   "cell_type": "code",
   "execution_count": 160,
   "id": "98329319-565b-4336-892d-a294d89fdc36",
   "metadata": {},
   "outputs": [
    {
     "data": {
      "text/plain": [
       "0.6666666666666666"
      ]
     },
     "execution_count": 160,
     "metadata": {},
     "output_type": "execute_result"
    }
   ],
   "source": [
    "n_gram.mle(\"I\", \"<s>\")"
   ]
  },
  {
   "cell_type": "code",
   "execution_count": null,
   "id": "f2d31b68-1566-47e0-a833-2f6e68e93805",
   "metadata": {},
   "outputs": [],
   "source": []
  }
 ],
 "metadata": {
  "kernelspec": {
   "display_name": "Python 3 (ipykernel)",
   "language": "python",
   "name": "python3"
  },
  "language_info": {
   "codemirror_mode": {
    "name": "ipython",
    "version": 3
   },
   "file_extension": ".py",
   "mimetype": "text/x-python",
   "name": "python",
   "nbconvert_exporter": "python",
   "pygments_lexer": "ipython3",
   "version": "3.10.8"
  }
 },
 "nbformat": 4,
 "nbformat_minor": 5
}
